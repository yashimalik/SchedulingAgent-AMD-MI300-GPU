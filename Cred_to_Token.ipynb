{
 "cells": [
  {
   "cell_type": "code",
   "execution_count": null,
   "id": "98e0ffa4",
   "metadata": {},
   "outputs": [],
   "source": [
    "from google_auth_oauthlib.flow import InstalledAppFlow\n",
    "\n",
    "SCOPES = [\"https://www.googleapis.com/auth/calendar\"]\n",
    "\n",
    "def authenticate():\n",
    "    flow = InstalledAppFlow.from_client_secrets_file(\"Keys/userone.amd.json\", SCOPES)\n",
    "    creds = flow.run_local_server(port=0)\n",
    "    with open(\"Keys/userone.amd.token\", \"w\") as token:\n",
    "        token.write(creds.to_json())\n",
    "\n",
    "authenticate()"
   ]
  },
  {
   "cell_type": "code",
   "execution_count": null,
   "id": "b860493d",
   "metadata": {},
   "outputs": [],
   "source": []
  }
 ],
 "metadata": {
  "kernelspec": {
   "display_name": "Python 3 (ipykernel)",
   "language": "python",
   "name": "python3"
  },
  "language_info": {
   "codemirror_mode": {
    "name": "ipython",
    "version": 3
   },
   "file_extension": ".py",
   "mimetype": "text/x-python",
   "name": "python",
   "nbconvert_exporter": "python",
   "pygments_lexer": "ipython3",
   "version": "3.12.10"
  }
 },
 "nbformat": 4,
 "nbformat_minor": 5
}
