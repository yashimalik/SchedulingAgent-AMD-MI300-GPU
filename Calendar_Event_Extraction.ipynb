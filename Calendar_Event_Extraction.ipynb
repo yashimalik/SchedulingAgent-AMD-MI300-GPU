{
 "cells": [
  {
   "cell_type": "markdown",
   "id": "ad70f19d",
   "metadata": {},
   "source": [
    "# Google Calendar Event Fetcher\n",
    "\n",
    "#### The Notebook demonstrates how to programmatically retrieve and process Google Calendar events for a given user and date range.\n",
    "\n",
    "##### Key Steps:\n",
    "\n",
    "Authentication: Load user credentials from a token file.\n",
    "\n",
    "API Call: Fetch events between specified start/end dates using the Google Calendar API.\n",
    "\n",
    "Data Processing: Extract event details (start/end times, attendees) and structure them into a clean format.\n",
    "\n",
    "Output: Return a list of events with attendee counts and time slots.\n",
    "```"
   ]
  },
  {
   "cell_type": "markdown",
   "id": "4411255e",
   "metadata": {},
   "source": [
    "### Importing Required Libraries"
   ]
  },
  {
   "cell_type": "code",
   "execution_count": 57,
   "id": "1c82ee6f",
   "metadata": {},
   "outputs": [],
   "source": [
    "import json\n",
    "from datetime import datetime, timezone, timedelta\n",
    "from google.oauth2.credentials import Credentials\n",
    "from googleapiclient.discovery import build"
   ]
  },
  {
   "cell_type": "markdown",
   "id": "e4e1d252",
   "metadata": {},
   "source": [
    "### Defining the retrive_calendar_events Function that includes : \n",
    "#### 1. Authenticating with Google Calendar\n",
    "#### 2. Fetching Events\n",
    "#### 3. Processing Events & Structuring"
   ]
  },
  {
   "cell_type": "code",
   "execution_count": 76,
   "id": "a71a3470",
   "metadata": {},
   "outputs": [],
   "source": [
    "def retrive_calendar_events(user, start, end):\n",
    "    events_list = []\n",
    "    token_path = \"Keys/\"+user.split(\"@\")[0]+\".token\"\n",
    "    user_creds = Credentials.from_authorized_user_file(token_path)\n",
    "    calendar_service = build(\"calendar\", \"v3\", credentials=user_creds)\n",
    "    events_result = calendar_service.events().list(calendarId='primary', timeMin=start,timeMax=end,singleEvents=True,orderBy='startTime').execute()\n",
    "    events = events_result.get('items')\n",
    "    \n",
    "    for event in events :\n",
    "        attendee_list = []\n",
    "        try:\n",
    "            for attendee in event[\"attendees\"]: \n",
    "                attendee_list.append(attendee['email'])\n",
    "        except: \n",
    "            attendee_list.append(\"SELF\")\n",
    "        start_time = event[\"start\"][\"dateTime\"]\n",
    "        end_time = event[\"end\"][\"dateTime\"]\n",
    "        EventId = event['id']\n",
    "        events_list.append(\n",
    "            {\"StartTime\" : start_time, \n",
    "             \"EndTime\": end_time, \n",
    "             \"NumAttendees\" :len(set(attendee_list)), \n",
    "             \"Attendees\" : list(set(attendee_list)),\n",
    "             \"Summary\" : event[\"summary\"],\n",
    "             \"Id\": EventId})\n",
    "    return events_list"
   ]
  },
  {
   "cell_type": "markdown",
   "id": "e2c46704",
   "metadata": {},
   "source": [
    "### Calling ```retrive_calendar_events``` with Auth Token, Start Date & End Date \n",
    "#### Date Format : YYYY-MM-DD (T) HH:MM:SS +TIMEZONE (+5:30 Indicates IST Time Zone Asia/Kolkata ) "
   ]
  },
  {
   "cell_type": "code",
   "execution_count": 77,
   "id": "8a76b494",
   "metadata": {},
   "outputs": [],
   "source": [
    "event = retrive_calendar_events(\"userthree.amd@gmail.com\", '2025-07-24T00:00:00+05:30', '2025-07-24T23:59:59+05:30')"
   ]
  },
  {
   "cell_type": "markdown",
   "id": "3d59631a",
   "metadata": {},
   "source": [
    "### Output that describing sample event : "
   ]
  },
  {
   "cell_type": "code",
   "execution_count": 78,
   "id": "c0adca3c",
   "metadata": {},
   "outputs": [
    {
     "data": {
      "text/plain": [
       "[{'StartTime': '2025-07-23T16:00:00+05:30',\n",
       "  'EndTime': '2025-07-24T07:30:00+05:30',\n",
       "  'NumAttendees': 1,\n",
       "  'Attendees': ['SELF'],\n",
       "  'Summary': 'Off Hours',\n",
       "  'Id': '72l3ofl46ubh45k4gotqtbo9ci_20250723T103000Z'},\n",
       " {'StartTime': '2025-07-24T10:30:00+05:30',\n",
       "  'EndTime': '2025-07-24T11:00:00+05:30',\n",
       "  'NumAttendees': 3,\n",
       "  'Attendees': ['usertwo.amd@gmail.com',\n",
       "   'userthree.amd@gmail.com',\n",
       "   'userone.amd@gmail.com'],\n",
       "  'Summary': 'Agentic AI Project Status Update',\n",
       "  'Id': 'v852me2e8c247edjitdfjt8m00'},\n",
       " {'StartTime': '2025-07-24T16:00:00+05:30',\n",
       "  'EndTime': '2025-07-25T07:30:00+05:30',\n",
       "  'NumAttendees': 1,\n",
       "  'Attendees': ['SELF'],\n",
       "  'Summary': 'Off Hours',\n",
       "  'Id': '72l3ofl46ubh45k4gotqtbo9ci_20250724T103000Z'}]"
      ]
     },
     "execution_count": 78,
     "metadata": {},
     "output_type": "execute_result"
    }
   ],
   "source": [
    "event"
   ]
  },
  {
   "cell_type": "code",
   "execution_count": 45,
   "id": "570c1605-6572-4030-9893-230670b87560",
   "metadata": {},
   "outputs": [
    {
     "name": "stdout",
     "output_type": "stream",
     "text": [
      "[[{'StartTime': '2025-07-17T18:00:00+05:30', 'EndTime': '2025-07-18T09:00:00+05:30', 'NumAttendees': 1, 'Attendees': ['SELF'], 'Summary': 'Off Hours'}, {'StartTime': '2025-07-18T18:00:00+05:30', 'EndTime': '2025-07-19T09:00:00+05:30', 'NumAttendees': 1, 'Attendees': ['SELF'], 'Summary': 'Off Hours'}], [{'StartTime': '2025-07-17T18:00:00+05:30', 'EndTime': '2025-07-18T09:00:00+05:30', 'NumAttendees': 1, 'Attendees': ['SELF'], 'Summary': 'Off Hours'}, {'StartTime': '2025-07-18T09:00:00+05:30', 'EndTime': '2025-07-18T17:00:00+05:30', 'NumAttendees': 1, 'Attendees': ['SELF'], 'Summary': 'Workshop Advance AI'}, {'StartTime': '2025-07-18T18:00:00+05:30', 'EndTime': '2025-07-19T09:00:00+05:30', 'NumAttendees': 1, 'Attendees': ['SELF'], 'Summary': 'Off Hours'}]]\n",
      "Free slots where both people are available:\n",
      "1. 17:00 - 18:00 (2 people available)\n"
     ]
    }
   ],
   "source": []
  },
  {
   "cell_type": "code",
   "execution_count": null,
   "id": "6e282e82-72c6-425e-934a-4420da53c7a9",
   "metadata": {},
   "outputs": [],
   "source": []
  }
 ],
 "metadata": {
  "kernelspec": {
   "display_name": "Python 3 (ipykernel)",
   "language": "python",
   "name": "python3"
  },
  "language_info": {
   "codemirror_mode": {
    "name": "ipython",
    "version": 3
   },
   "file_extension": ".py",
   "mimetype": "text/x-python",
   "name": "python",
   "nbconvert_exporter": "python",
   "pygments_lexer": "ipython3",
   "version": "3.12.10"
  }
 },
 "nbformat": 4,
 "nbformat_minor": 5
}
