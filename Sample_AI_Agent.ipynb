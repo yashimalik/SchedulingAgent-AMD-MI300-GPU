{
 "cells": [
  {
   "cell_type": "markdown",
   "id": "393f02b5-6729-4670-b8b3-cb52b29deca6",
   "metadata": {},
   "source": [
    "# Example of AI Agent\n",
    "\n",
    "#### The Notebook demonstrates how to create a simple AI Agent that uses vLLM & OpenAI API to communicate with LLM Model."
   ]
  },
  {
   "cell_type": "markdown",
   "id": "0e23497c-09a2-491e-893b-fc6d843b9fb8",
   "metadata": {},
   "source": [
    "### Importing Required Libraries"
   ]
  },
  {
   "cell_type": "code",
   "execution_count": 1,
   "id": "650327bd-c9d0-4d6b-b264-8e3769199751",
   "metadata": {},
   "outputs": [
    {
     "name": "stdout",
     "output_type": "stream",
     "text": [
      "INFO 07-19 09:43:11 [__init__.py:248] Automatically detected platform rocm.\n"
     ]
    }
   ],
   "source": [
    "import os\n",
    "from openai import OpenAI\n",
    "import json\n",
    "from vllm import SamplingParams"
   ]
  },
  {
   "cell_type": "markdown",
   "id": "65b29326-d2d1-46b0-b10b-5abf472a584b",
   "metadata": {},
   "source": [
    "## Deploying the LLM using vLLM\n",
    "\n",
    "Start deploying the LLM (/deepseek-ai/deepseek-llm-7b-chat) using vLLM in the Jupyter notebook:\n",
    "\n",
    "### Start the vLLM server \n",
    "\n",
    "Open a new tab in this Jypyter server, click on the terminal icon to open a new terminal, then copy the following command to launch the vLLM server:\n",
    "\n",
    "```bash\n",
    "HIP_VISIBLE_DEVICES=0 vllm serve /home/user/Models/deepseek-ai/deepseek-llm-7b-chat \\\n",
    "        --gpu-memory-utilization 0.9 \\\n",
    "        --swap-space 16 \\\n",
    "        --disable-log-requests \\\n",
    "        --dtype float16 \\\n",
    "        --max-model-len 2048 \\\n",
    "        --tensor-parallel-size 1 \\\n",
    "        --host 0.0.0.0 \\\n",
    "        --port 3000 \\\n",
    "        --num-scheduler-steps 10 \\\n",
    "        --max-num-seqs 128 \\\n",
    "        --max-num-batched-tokens 2048 \\\n",
    "        --max-model-len 2048 \\\n",
    "        --distributed-executor-backend \"mp\"\n",
    "```"
   ]
  },
  {
   "cell_type": "markdown",
   "id": "9bc43149-ca29-4627-a97f-958ac4ebf49c",
   "metadata": {},
   "source": [
    "#### Configure the BASE_URL & MODEL_PATH to input to AI Agent "
   ]
  },
  {
   "cell_type": "code",
   "execution_count": 3,
   "id": "c79aa2a6-1127-4bb8-af73-9f4664d30fe8",
   "metadata": {},
   "outputs": [],
   "source": [
    "BASE_URL = f\"http://localhost:3000/v1\"\n",
    "MODEL_PATH = \"/home/user/Models/deepseek-ai/deepseek-llm-7b-chat\""
   ]
  },
  {
   "cell_type": "markdown",
   "id": "40970cd1-1adf-4387-b114-0d494491fc43",
   "metadata": {},
   "source": [
    "#### Create OpenAI Client"
   ]
  },
  {
   "cell_type": "code",
   "execution_count": 4,
   "id": "a3681eae-2ef0-42de-aac8-d5a9830eb5d3",
   "metadata": {},
   "outputs": [],
   "source": [
    "client = OpenAI(api_key=\"NULL\", base_url=BASE_URL, timeout=None, max_retries=0)"
   ]
  },
  {
   "cell_type": "markdown",
   "id": "c95eab66-0eaa-494f-b7de-41d64f76a6ba",
   "metadata": {},
   "source": [
    "#### Create an AI Agent that takes OpenAI Client & Text Input and follows pre-defined Instructions to output the response"
   ]
  },
  {
   "cell_type": "code",
   "execution_count": 5,
   "id": "66713863-f3c0-46f8-91af-89bf5e7a8499",
   "metadata": {},
   "outputs": [],
   "source": [
    "class AI_AGENT:\n",
    "    def __init__(self, client, MODEL_PATH):\n",
    "        self.base_url = BASE_URL\n",
    "        self.model_path = MODEL_PATH\n",
    "\n",
    "    def parse_email(self, email_text):\n",
    "        response = client.chat.completions.create(\n",
    "            model=self.model_path,\n",
    "            temperature=0.0,\n",
    "            messages=[{\n",
    "                \"role\": \"user\",\n",
    "                \"content\": f\"\"\"\n",
    "                Yor are an Agent that helps in scheduling meetings.\n",
    "                Your job is to extracts Email ID's and Meeting Duration.\n",
    "                You should return :\n",
    "                1. List of email id's of participants (comma-separated).\n",
    "                2. Meeting duration in minutes.\n",
    "                3. Time constraints (e.g., 'next week').\n",
    "                If the List of email id's of participants are just names, then append @amd.com at the end and return. \n",
    "                Return as json with 'participants', 'time_constraints' & 'meeting_duration'.\n",
    "                Stricty follow the instructions. Strictly return dict with participents email id's, time constraints & meeting duration in minutes only. \n",
    "                Don not add any other instrctions or information. \n",
    "                \n",
    "                Email: {email_text}\n",
    "                \n",
    "                \"\"\"\n",
    "            }]\n",
    "        )\n",
    "        return json.loads(response.choices[0].message.content)"
   ]
  },
  {
   "cell_type": "code",
   "execution_count": 6,
   "id": "9bae0b78-efd0-4a8a-845c-536520d833a9",
   "metadata": {},
   "outputs": [],
   "source": [
    "ai_agent = AI_AGENT(client, MODEL_PATH)"
   ]
  },
  {
   "cell_type": "code",
   "execution_count": 7,
   "id": "6f622a3f-ab09-4789-b093-8f76ca0847ed",
   "metadata": {},
   "outputs": [
    {
     "data": {
      "text/plain": [
       "{'participants': 'ajith@amd.com,prakash@gmail.com,sirra@gmail.com',\n",
       " 'time_constraints': 'next week',\n",
       " 'meeting_duration': 30}"
      ]
     },
     "execution_count": 7,
     "metadata": {},
     "output_type": "execute_result"
    }
   ],
   "source": [
    "email = \"\"\"\n",
    "Hi team, let's meet about AI Project next week for half hour. \n",
    "Attendees: Ajith(ajith@amd.com), Prakash(prakash@gmail.com), Sirra(sirra@gmail.com). \n",
    "\"\"\"\n",
    "meeting_json = ai_agent.parse_email(email)\n",
    "meeting_json"
   ]
  },
  {
   "cell_type": "code",
   "execution_count": 8,
   "id": "3afa5d45-1e41-4484-8235-b73a678ae179",
   "metadata": {},
   "outputs": [
    {
     "data": {
      "text/plain": [
       "{'participants': 'ajith@amd.com,prakash@gmail.com,sirra@gmail.com',\n",
       " 'time_constraints': 'next week',\n",
       " 'meeting_duration': 30}"
      ]
     },
     "execution_count": 8,
     "metadata": {},
     "output_type": "execute_result"
    }
   ],
   "source": [
    "meeting_json"
   ]
  },
  {
   "cell_type": "code",
   "execution_count": 9,
   "id": "e3a71a2a-b5e6-4671-91bd-a9ff14f98e79",
   "metadata": {},
   "outputs": [
    {
     "data": {
      "text/plain": [
       "{'participants': 'ajith@amd.com,prakash@amd.com,sirra@amd.com',\n",
       " 'time_constraints': 'next tuesday',\n",
       " 'meeting_duration': 60}"
      ]
     },
     "execution_count": 9,
     "metadata": {},
     "output_type": "execute_result"
    }
   ],
   "source": [
    "email = \"\"\"\n",
    "Hi Team, let's meet about AI Project next tuesday for an hour. \n",
    "Attendees: Ajith, Prakash & Sirra. \n",
    "\"\"\"\n",
    "meeting_json = ai_agent.parse_email(email.lower())\n",
    "meeting_json"
   ]
  },
  {
   "cell_type": "code",
   "execution_count": null,
   "id": "98d8d2c1-e5f1-4193-a9da-3cb74d49b405",
   "metadata": {},
   "outputs": [],
   "source": []
  }
 ],
 "metadata": {
  "kernelspec": {
   "display_name": "Python 3 (ipykernel)",
   "language": "python",
   "name": "python3"
  },
  "language_info": {
   "codemirror_mode": {
    "name": "ipython",
    "version": 3
   },
   "file_extension": ".py",
   "mimetype": "text/x-python",
   "name": "python",
   "nbconvert_exporter": "python",
   "pygments_lexer": "ipython3",
   "version": "3.12.10"
  }
 },
 "nbformat": 4,
 "nbformat_minor": 5
}
